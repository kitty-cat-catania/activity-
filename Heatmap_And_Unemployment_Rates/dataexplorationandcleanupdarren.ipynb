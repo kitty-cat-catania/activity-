{
 "cells": [
  {
   "cell_type": "code",
   "execution_count": 1,
   "id": "canadian-tract",
   "metadata": {},
   "outputs": [],
   "source": [
    "import pandas as pd"
   ]
  },
  {
   "cell_type": "code",
   "execution_count": 2,
   "id": "medical-limit",
   "metadata": {},
   "outputs": [],
   "source": [
    "# Read CSV In Resources Folder\n",
    "\n",
    "us_counties_df = pd.read_csv('darrenResources/covid_us_county.csv')\n",
    "\n",
    "# us_counties_df"
   ]
  },
  {
   "cell_type": "code",
   "execution_count": 3,
   "id": "timely-functionality",
   "metadata": {},
   "outputs": [],
   "source": [
    "# Look At Counties That We Won't Use In Graph \n",
    "\n",
    "unused_counties_df = us_counties_df.loc[us_counties_df['lat'] == 0]\n",
    "\n",
    "# unused_counties_df"
   ]
  },
  {
   "cell_type": "code",
   "execution_count": 4,
   "id": "express-works",
   "metadata": {},
   "outputs": [],
   "source": [
    "# Grab Indices Of All Unused Counties \n",
    "\n",
    "unused_cases_array = unused_counties_df.index.values"
   ]
  },
  {
   "cell_type": "code",
   "execution_count": 5,
   "id": "departmental-authentication",
   "metadata": {
    "scrolled": false
   },
   "outputs": [],
   "source": [
    "# Drop Indices In Counties Data Frame \n",
    "\n",
    "used_counties_df = us_counties_df.drop(unused_cases_array)\n",
    "\n",
    "# used_counties_df"
   ]
  },
  {
   "cell_type": "code",
   "execution_count": 6,
   "id": "hybrid-lesson",
   "metadata": {},
   "outputs": [],
   "source": [
    "# Test If There Are Counties Out There That We Won't Use \n",
    "\n",
    "# testdf = used_counties_df.loc[used_counties_df['state'] == 'District of Columbia']\n",
    "\n",
    "# testdf"
   ]
  },
  {
   "cell_type": "code",
   "execution_count": 7,
   "id": "warming-hamburg",
   "metadata": {},
   "outputs": [],
   "source": [
    "# Count Unique Items In Data Frame \n",
    "# len(used_counties_df.state.unique())"
   ]
  },
  {
   "cell_type": "code",
   "execution_count": 8,
   "id": "stuffed-hayes",
   "metadata": {},
   "outputs": [],
   "source": [
    "# Drop Rows That Don't Have Values \n",
    "\n",
    "clean_counties_df = used_counties_df.dropna(how=\"any\")"
   ]
  },
  {
   "cell_type": "code",
   "execution_count": 9,
   "id": "broadband-force",
   "metadata": {},
   "outputs": [],
   "source": [
    "# Test Again To See Counties Have Been Dropped \n",
    "\n",
    "# test2df = clean_counties_df.loc[clean_counties_df['state'] == 'District of Columbia']\n",
    "\n",
    "# test2df"
   ]
  },
  {
   "cell_type": "code",
   "execution_count": 10,
   "id": "lyric-folks",
   "metadata": {},
   "outputs": [
    {
     "data": {
      "text/plain": [
       "50"
      ]
     },
     "execution_count": 10,
     "metadata": {},
     "output_type": "execute_result"
    }
   ],
   "source": [
    "# Length Of Clean Data\n",
    "\n",
    "len(clean_counties_df.state.unique())"
   ]
  },
  {
   "cell_type": "code",
   "execution_count": 11,
   "id": "revised-fortune",
   "metadata": {},
   "outputs": [
    {
     "data": {
      "text/plain": [
       "array(['Alabama', 'Alaska', 'Arizona', 'Arkansas', 'California',\n",
       "       'Colorado', 'Connecticut', 'Delaware', 'Florida', 'Georgia',\n",
       "       'Hawaii', 'Idaho', 'Illinois', 'Indiana', 'Iowa', 'Kansas',\n",
       "       'Kentucky', 'Louisiana', 'Maine', 'Maryland', 'Massachusetts',\n",
       "       'Michigan', 'Minnesota', 'Mississippi', 'Missouri', 'Montana',\n",
       "       'Nebraska', 'Nevada', 'New Hampshire', 'New Jersey', 'New Mexico',\n",
       "       'New York', 'North Carolina', 'North Dakota', 'Ohio', 'Oklahoma',\n",
       "       'Oregon', 'Pennsylvania', 'Rhode Island', 'South Carolina',\n",
       "       'South Dakota', 'Tennessee', 'Texas', 'Utah', 'Vermont',\n",
       "       'Virginia', 'Washington', 'West Virginia', 'Wisconsin', 'Wyoming'],\n",
       "      dtype=object)"
      ]
     },
     "execution_count": 11,
     "metadata": {},
     "output_type": "execute_result"
    }
   ],
   "source": [
    "# Naming All States In USA \n",
    "clean_counties_df.state.unique()"
   ]
  },
  {
   "cell_type": "code",
   "execution_count": 12,
   "id": "advised-breakdown",
   "metadata": {},
   "outputs": [
    {
     "data": {
      "text/html": [
       "<div>\n",
       "<style scoped>\n",
       "    .dataframe tbody tr th:only-of-type {\n",
       "        vertical-align: middle;\n",
       "    }\n",
       "\n",
       "    .dataframe tbody tr th {\n",
       "        vertical-align: top;\n",
       "    }\n",
       "\n",
       "    .dataframe thead th {\n",
       "        text-align: right;\n",
       "    }\n",
       "</style>\n",
       "<table border=\"1\" class=\"dataframe\">\n",
       "  <thead>\n",
       "    <tr style=\"text-align: right;\">\n",
       "      <th></th>\n",
       "      <th>fips</th>\n",
       "      <th>county</th>\n",
       "      <th>state</th>\n",
       "      <th>lat</th>\n",
       "      <th>long</th>\n",
       "      <th>date</th>\n",
       "      <th>cases</th>\n",
       "      <th>state_code</th>\n",
       "      <th>deaths</th>\n",
       "    </tr>\n",
       "  </thead>\n",
       "  <tbody>\n",
       "    <tr>\n",
       "      <th>0</th>\n",
       "      <td>1001.0</td>\n",
       "      <td>Autauga</td>\n",
       "      <td>Alabama</td>\n",
       "      <td>32.539527</td>\n",
       "      <td>-86.644082</td>\n",
       "      <td>2020-01-22</td>\n",
       "      <td>0</td>\n",
       "      <td>AL</td>\n",
       "      <td>0</td>\n",
       "    </tr>\n",
       "    <tr>\n",
       "      <th>1</th>\n",
       "      <td>1001.0</td>\n",
       "      <td>Autauga</td>\n",
       "      <td>Alabama</td>\n",
       "      <td>32.539527</td>\n",
       "      <td>-86.644082</td>\n",
       "      <td>2020-01-23</td>\n",
       "      <td>0</td>\n",
       "      <td>AL</td>\n",
       "      <td>0</td>\n",
       "    </tr>\n",
       "    <tr>\n",
       "      <th>2</th>\n",
       "      <td>1001.0</td>\n",
       "      <td>Autauga</td>\n",
       "      <td>Alabama</td>\n",
       "      <td>32.539527</td>\n",
       "      <td>-86.644082</td>\n",
       "      <td>2020-01-24</td>\n",
       "      <td>0</td>\n",
       "      <td>AL</td>\n",
       "      <td>0</td>\n",
       "    </tr>\n",
       "    <tr>\n",
       "      <th>3</th>\n",
       "      <td>1001.0</td>\n",
       "      <td>Autauga</td>\n",
       "      <td>Alabama</td>\n",
       "      <td>32.539527</td>\n",
       "      <td>-86.644082</td>\n",
       "      <td>2020-01-25</td>\n",
       "      <td>0</td>\n",
       "      <td>AL</td>\n",
       "      <td>0</td>\n",
       "    </tr>\n",
       "    <tr>\n",
       "      <th>4</th>\n",
       "      <td>1001.0</td>\n",
       "      <td>Autauga</td>\n",
       "      <td>Alabama</td>\n",
       "      <td>32.539527</td>\n",
       "      <td>-86.644082</td>\n",
       "      <td>2020-01-26</td>\n",
       "      <td>0</td>\n",
       "      <td>AL</td>\n",
       "      <td>0</td>\n",
       "    </tr>\n",
       "    <tr>\n",
       "      <th>...</th>\n",
       "      <td>...</td>\n",
       "      <td>...</td>\n",
       "      <td>...</td>\n",
       "      <td>...</td>\n",
       "      <td>...</td>\n",
       "      <td>...</td>\n",
       "      <td>...</td>\n",
       "      <td>...</td>\n",
       "      <td>...</td>\n",
       "    </tr>\n",
       "    <tr>\n",
       "      <th>1406135</th>\n",
       "      <td>56045.0</td>\n",
       "      <td>Weston</td>\n",
       "      <td>Wyoming</td>\n",
       "      <td>43.839612</td>\n",
       "      <td>-104.567488</td>\n",
       "      <td>2021-03-13</td>\n",
       "      <td>631</td>\n",
       "      <td>WY</td>\n",
       "      <td>5</td>\n",
       "    </tr>\n",
       "    <tr>\n",
       "      <th>1406136</th>\n",
       "      <td>56045.0</td>\n",
       "      <td>Weston</td>\n",
       "      <td>Wyoming</td>\n",
       "      <td>43.839612</td>\n",
       "      <td>-104.567488</td>\n",
       "      <td>2021-03-14</td>\n",
       "      <td>631</td>\n",
       "      <td>WY</td>\n",
       "      <td>5</td>\n",
       "    </tr>\n",
       "    <tr>\n",
       "      <th>1406137</th>\n",
       "      <td>56045.0</td>\n",
       "      <td>Weston</td>\n",
       "      <td>Wyoming</td>\n",
       "      <td>43.839612</td>\n",
       "      <td>-104.567488</td>\n",
       "      <td>2021-03-15</td>\n",
       "      <td>631</td>\n",
       "      <td>WY</td>\n",
       "      <td>5</td>\n",
       "    </tr>\n",
       "    <tr>\n",
       "      <th>1406138</th>\n",
       "      <td>56045.0</td>\n",
       "      <td>Weston</td>\n",
       "      <td>Wyoming</td>\n",
       "      <td>43.839612</td>\n",
       "      <td>-104.567488</td>\n",
       "      <td>2021-03-16</td>\n",
       "      <td>631</td>\n",
       "      <td>WY</td>\n",
       "      <td>5</td>\n",
       "    </tr>\n",
       "    <tr>\n",
       "      <th>1406139</th>\n",
       "      <td>56045.0</td>\n",
       "      <td>Weston</td>\n",
       "      <td>Wyoming</td>\n",
       "      <td>43.839612</td>\n",
       "      <td>-104.567488</td>\n",
       "      <td>2021-03-17</td>\n",
       "      <td>631</td>\n",
       "      <td>WY</td>\n",
       "      <td>5</td>\n",
       "    </tr>\n",
       "  </tbody>\n",
       "</table>\n",
       "<p>1322361 rows × 9 columns</p>\n",
       "</div>"
      ],
      "text/plain": [
       "            fips   county    state        lat        long        date  cases  \\\n",
       "0         1001.0  Autauga  Alabama  32.539527  -86.644082  2020-01-22      0   \n",
       "1         1001.0  Autauga  Alabama  32.539527  -86.644082  2020-01-23      0   \n",
       "2         1001.0  Autauga  Alabama  32.539527  -86.644082  2020-01-24      0   \n",
       "3         1001.0  Autauga  Alabama  32.539527  -86.644082  2020-01-25      0   \n",
       "4         1001.0  Autauga  Alabama  32.539527  -86.644082  2020-01-26      0   \n",
       "...          ...      ...      ...        ...         ...         ...    ...   \n",
       "1406135  56045.0   Weston  Wyoming  43.839612 -104.567488  2021-03-13    631   \n",
       "1406136  56045.0   Weston  Wyoming  43.839612 -104.567488  2021-03-14    631   \n",
       "1406137  56045.0   Weston  Wyoming  43.839612 -104.567488  2021-03-15    631   \n",
       "1406138  56045.0   Weston  Wyoming  43.839612 -104.567488  2021-03-16    631   \n",
       "1406139  56045.0   Weston  Wyoming  43.839612 -104.567488  2021-03-17    631   \n",
       "\n",
       "        state_code  deaths  \n",
       "0               AL       0  \n",
       "1               AL       0  \n",
       "2               AL       0  \n",
       "3               AL       0  \n",
       "4               AL       0  \n",
       "...            ...     ...  \n",
       "1406135         WY       5  \n",
       "1406136         WY       5  \n",
       "1406137         WY       5  \n",
       "1406138         WY       5  \n",
       "1406139         WY       5  \n",
       "\n",
       "[1322361 rows x 9 columns]"
      ]
     },
     "execution_count": 12,
     "metadata": {},
     "output_type": "execute_result"
    }
   ],
   "source": [
    "# Showcasing Clean DataFrame \n",
    "\n",
    "clean_counties_df"
   ]
  },
  {
   "cell_type": "code",
   "execution_count": 13,
   "id": "differential-needle",
   "metadata": {},
   "outputs": [],
   "source": [
    "# Making Clean CSV For Counties \n",
    "\n",
    "clean_counties_df.to_csv('darrenResources/clean_covid_counties_us.csv', encoding=\"utf-8\", index=False)"
   ]
  },
  {
   "cell_type": "markdown",
   "id": "choice-maker",
   "metadata": {},
   "source": [
    "# Cleaning Unemployment CSV"
   ]
  },
  {
   "cell_type": "code",
   "execution_count": 14,
   "id": "asian-thursday",
   "metadata": {},
   "outputs": [],
   "source": [
    "# Reading Unemployment CSV File\n",
    "\n",
    "unemployment_df = pd.read_csv('darrenResources/unemploymentstates.csv')"
   ]
  },
  {
   "cell_type": "code",
   "execution_count": 15,
   "id": "thick-transcription",
   "metadata": {},
   "outputs": [],
   "source": [
    "# Looking At Data Frame \n",
    "# unemployment_df"
   ]
  },
  {
   "cell_type": "code",
   "execution_count": 16,
   "id": "brief-ideal",
   "metadata": {},
   "outputs": [],
   "source": [
    "# Dropping Unused Column \n",
    "\n",
    "unemployment_df = unemployment_df.drop(columns = 'Unnamed: 74')"
   ]
  },
  {
   "cell_type": "code",
   "execution_count": 17,
   "id": "tropical-nickel",
   "metadata": {},
   "outputs": [],
   "source": [
    "# Creating New Data Frame\n",
    "\n",
    "top7covidstateunemployed = pd.DataFrame()\n",
    "\n",
    "covid_states = ['California','Texas','New York','Florida','Illinois','Georgia','Ohio']\n",
    "\n",
    "# Inserting Desired Rows \n",
    "\n",
    "for i in range(0, len(covid_states)):\n",
    "    staterow = unemployment_df.loc[unemployment_df['State'] == covid_states[i]]\n",
    "    # https://pythonexamples.org/pandas-dataframe-add-append-row/\n",
    "    top7covidstateunemployed = top7covidstateunemployed.append(staterow) "
   ]
  },
  {
   "cell_type": "code",
   "execution_count": 18,
   "id": "southeast-cattle",
   "metadata": {},
   "outputs": [],
   "source": [
    "# Checking New Data Frame \n",
    "# top7covidstateunemployed"
   ]
  },
  {
   "cell_type": "code",
   "execution_count": 19,
   "id": "typical-testimony",
   "metadata": {},
   "outputs": [],
   "source": [
    "clean_7_covidstates_df = top7covidstateunemployed.drop(top7covidstateunemployed.loc[:, 'January 2015':'December 2019'], axis = 1)"
   ]
  },
  {
   "cell_type": "code",
   "execution_count": 20,
   "id": "adequate-thread",
   "metadata": {},
   "outputs": [],
   "source": [
    "# Transposing Data Frame \n",
    "\n",
    "rotate_7_covidstates = clean_7_covidstates_df.T"
   ]
  },
  {
   "cell_type": "code",
   "execution_count": 21,
   "id": "surrounded-chain",
   "metadata": {},
   "outputs": [],
   "source": [
    "# Renaming Columns \n",
    "\n",
    "rotate_7_covidstates.columns = ['California','Texas','New York','Florida','Illinois','Georgia','Ohio']"
   ]
  },
  {
   "cell_type": "code",
   "execution_count": 22,
   "id": "fifty-white",
   "metadata": {},
   "outputs": [],
   "source": [
    "# Dropping State Row \n",
    "\n",
    "top_7_covid_states_unemployed = rotate_7_covidstates.drop('State')"
   ]
  },
  {
   "cell_type": "code",
   "execution_count": 23,
   "id": "pharmaceutical-movie",
   "metadata": {},
   "outputs": [
    {
     "data": {
      "text/html": [
       "<div>\n",
       "<style scoped>\n",
       "    .dataframe tbody tr th:only-of-type {\n",
       "        vertical-align: middle;\n",
       "    }\n",
       "\n",
       "    .dataframe tbody tr th {\n",
       "        vertical-align: top;\n",
       "    }\n",
       "\n",
       "    .dataframe thead th {\n",
       "        text-align: right;\n",
       "    }\n",
       "</style>\n",
       "<table border=\"1\" class=\"dataframe\">\n",
       "  <thead>\n",
       "    <tr style=\"text-align: right;\">\n",
       "      <th></th>\n",
       "      <th>California</th>\n",
       "      <th>Texas</th>\n",
       "      <th>New York</th>\n",
       "      <th>Florida</th>\n",
       "      <th>Illinois</th>\n",
       "      <th>Georgia</th>\n",
       "      <th>Ohio</th>\n",
       "    </tr>\n",
       "  </thead>\n",
       "  <tbody>\n",
       "    <tr>\n",
       "      <th>January 2020</th>\n",
       "      <td>4.2</td>\n",
       "      <td>3.6</td>\n",
       "      <td>3.8</td>\n",
       "      <td>3.3</td>\n",
       "      <td>3.5</td>\n",
       "      <td>3.3</td>\n",
       "      <td>4.5</td>\n",
       "    </tr>\n",
       "    <tr>\n",
       "      <th>February 2020</th>\n",
       "      <td>4.3</td>\n",
       "      <td>3.7</td>\n",
       "      <td>3.9</td>\n",
       "      <td>3.3</td>\n",
       "      <td>3.6</td>\n",
       "      <td>3.5</td>\n",
       "      <td>4.7</td>\n",
       "    </tr>\n",
       "    <tr>\n",
       "      <th>March 2020</th>\n",
       "      <td>4.5</td>\n",
       "      <td>4.9</td>\n",
       "      <td>3.9</td>\n",
       "      <td>4.9</td>\n",
       "      <td>3.7</td>\n",
       "      <td>3.6</td>\n",
       "      <td>4.9</td>\n",
       "    </tr>\n",
       "    <tr>\n",
       "      <th>April 2020</th>\n",
       "      <td>16.0</td>\n",
       "      <td>12.9</td>\n",
       "      <td>16.2</td>\n",
       "      <td>14.0</td>\n",
       "      <td>16.5</td>\n",
       "      <td>12.5</td>\n",
       "      <td>16.4</td>\n",
       "    </tr>\n",
       "    <tr>\n",
       "      <th>May 2020</th>\n",
       "      <td>15.6</td>\n",
       "      <td>11.6</td>\n",
       "      <td>15.7</td>\n",
       "      <td>14.2</td>\n",
       "      <td>15.4</td>\n",
       "      <td>9.4</td>\n",
       "      <td>14.9</td>\n",
       "    </tr>\n",
       "    <tr>\n",
       "      <th>June 2020</th>\n",
       "      <td>14.1</td>\n",
       "      <td>10.2</td>\n",
       "      <td>15</td>\n",
       "      <td>11.6</td>\n",
       "      <td>14.2</td>\n",
       "      <td>8.4</td>\n",
       "      <td>10.3</td>\n",
       "    </tr>\n",
       "    <tr>\n",
       "      <th>July 2020</th>\n",
       "      <td>13.2</td>\n",
       "      <td>9.3</td>\n",
       "      <td>14.7</td>\n",
       "      <td>11.5</td>\n",
       "      <td>12</td>\n",
       "      <td>7.6</td>\n",
       "      <td>9.3</td>\n",
       "    </tr>\n",
       "    <tr>\n",
       "      <th>August 2020</th>\n",
       "      <td>12.3</td>\n",
       "      <td>6.9</td>\n",
       "      <td>11.7</td>\n",
       "      <td>7.9</td>\n",
       "      <td>11.1</td>\n",
       "      <td>7</td>\n",
       "      <td>9</td>\n",
       "    </tr>\n",
       "    <tr>\n",
       "      <th>September 2020</th>\n",
       "      <td>10.6</td>\n",
       "      <td>7.9</td>\n",
       "      <td>10</td>\n",
       "      <td>7.2</td>\n",
       "      <td>10.4</td>\n",
       "      <td>6.5</td>\n",
       "      <td>7.4</td>\n",
       "    </tr>\n",
       "    <tr>\n",
       "      <th>October 2020</th>\n",
       "      <td>9.8</td>\n",
       "      <td>7.3</td>\n",
       "      <td>8.7</td>\n",
       "      <td>5.8</td>\n",
       "      <td>8.1</td>\n",
       "      <td>5.9</td>\n",
       "      <td>5.6</td>\n",
       "    </tr>\n",
       "    <tr>\n",
       "      <th>November 2020</th>\n",
       "      <td>8.7</td>\n",
       "      <td>7.2</td>\n",
       "      <td>8.7</td>\n",
       "      <td>5.4</td>\n",
       "      <td>8.1</td>\n",
       "      <td>5.6</td>\n",
       "      <td>5.6</td>\n",
       "    </tr>\n",
       "    <tr>\n",
       "      <th>December 2020</th>\n",
       "      <td>9.3</td>\n",
       "      <td>6.9</td>\n",
       "      <td>8.7</td>\n",
       "      <td>5.1</td>\n",
       "      <td>8</td>\n",
       "      <td>5.3</td>\n",
       "      <td>5.6</td>\n",
       "    </tr>\n",
       "    <tr>\n",
       "      <th>January 2021</th>\n",
       "      <td>9</td>\n",
       "      <td>6.8</td>\n",
       "      <td>8.8</td>\n",
       "      <td>4.8</td>\n",
       "      <td>7.7</td>\n",
       "      <td>5.1</td>\n",
       "      <td>5.3</td>\n",
       "    </tr>\n",
       "  </tbody>\n",
       "</table>\n",
       "</div>"
      ],
      "text/plain": [
       "               California Texas New York Florida Illinois Georgia  Ohio\n",
       "January 2020          4.2   3.6      3.8     3.3      3.5     3.3   4.5\n",
       "February 2020         4.3   3.7      3.9     3.3      3.6     3.5   4.7\n",
       "March 2020            4.5   4.9      3.9     4.9      3.7     3.6   4.9\n",
       "April 2020           16.0  12.9     16.2    14.0     16.5    12.5  16.4\n",
       "May 2020             15.6  11.6     15.7    14.2     15.4     9.4  14.9\n",
       "June 2020            14.1  10.2       15    11.6     14.2     8.4  10.3\n",
       "July 2020            13.2   9.3     14.7    11.5       12     7.6   9.3\n",
       "August 2020          12.3   6.9     11.7     7.9     11.1       7     9\n",
       "September 2020       10.6   7.9       10     7.2     10.4     6.5   7.4\n",
       "October 2020          9.8   7.3      8.7     5.8      8.1     5.9   5.6\n",
       "November 2020         8.7   7.2      8.7     5.4      8.1     5.6   5.6\n",
       "December 2020         9.3   6.9      8.7     5.1        8     5.3   5.6\n",
       "January 2021            9   6.8      8.8     4.8      7.7     5.1   5.3"
      ]
     },
     "execution_count": 23,
     "metadata": {},
     "output_type": "execute_result"
    }
   ],
   "source": [
    "# Data Frame \n",
    "top_7_covid_states_unemployed"
   ]
  },
  {
   "cell_type": "code",
   "execution_count": 24,
   "id": "charitable-warrant",
   "metadata": {},
   "outputs": [],
   "source": [
    "# create csv file \n",
    "top_7_covid_states_unemployed.to_csv('darrenResources/unemployment_covid_top7states.csv', encoding=\"utf-8\", index=False)"
   ]
  }
 ],
 "metadata": {
  "kernelspec": {
   "display_name": "Python [conda env:PythonData] *",
   "language": "python",
   "name": "conda-env-PythonData-py"
  },
  "language_info": {
   "codemirror_mode": {
    "name": "ipython",
    "version": 3
   },
   "file_extension": ".py",
   "mimetype": "text/x-python",
   "name": "python",
   "nbconvert_exporter": "python",
   "pygments_lexer": "ipython3",
   "version": "3.6.10"
  }
 },
 "nbformat": 4,
 "nbformat_minor": 5
}
